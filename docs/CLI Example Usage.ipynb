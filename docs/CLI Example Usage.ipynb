{
 "cells": [
  {
   "cell_type": "code",
   "execution_count": null,
   "id": "initial_id",
   "metadata": {
    "ExecuteTime": {
     "end_time": "2024-08-30T19:53:20.305644Z",
     "start_time": "2024-08-30T19:53:20.303376Z"
    }
   },
   "outputs": [],
   "source": [
    "import os\n",
    "import json\n",
    "import csv\n",
    "from typing import List"
   ]
  },
  {
   "cell_type": "code",
   "execution_count": null,
   "id": "3f0a301796630571",
   "metadata": {
    "ExecuteTime": {
     "end_time": "2024-08-30T17:30:07.125929Z",
     "start_time": "2024-08-30T17:30:07.122792Z"
    }
   },
   "outputs": [],
   "source": [
    "def write_json_file(data: dict, filename: str) -> None:\n",
    "  with open(filename, 'w') as file:\n",
    "    json.dump(data, file)"
   ]
  },
  {
   "cell_type": "code",
   "execution_count": null,
   "id": "8a58d710be093e07",
   "metadata": {
    "ExecuteTime": {
     "end_time": "2024-08-30T17:30:07.466198Z",
     "start_time": "2024-08-30T17:30:07.463280Z"
    }
   },
   "outputs": [],
   "source": [
    "def read_json_file(filename: str) -> dict:\n",
    "  with open(filename, 'r') as file:\n",
    "    return json.load(file)"
   ]
  },
  {
   "cell_type": "code",
   "execution_count": null,
   "id": "d22e0c7e2899c1f3",
   "metadata": {
    "ExecuteTime": {
     "end_time": "2024-08-30T17:41:23.734460Z",
     "start_time": "2024-08-30T17:41:23.731156Z"
    }
   },
   "outputs": [],
   "source": [
    "def write_csv(data: List[dict], filename: str) -> None:\n",
    "  headers = list(data[0].keys())\n",
    "  with open(filename, 'w') as file:\n",
    "    writer = csv.DictWriter(file, fieldnames=headers)\n",
    "    writer.writeheader()\n",
    "    writer.writerows(data)"
   ]
  },
  {
   "cell_type": "markdown",
   "id": "699d2647b4451aa8",
   "metadata": {},
   "source": [
    "# PACE CLI Example Usage"
   ]
  },
  {
   "cell_type": "markdown",
   "id": "7210c5ffc63e97d2",
   "metadata": {},
   "source": [
    "## Displaying Help"
   ]
  },
  {
   "cell_type": "code",
   "execution_count": null,
   "id": "47d7eef0741c44f1",
   "metadata": {
    "ExecuteTime": {
     "end_time": "2024-08-30T16:54:52.653229Z",
     "start_time": "2024-08-30T16:54:51.712469Z"
    }
   },
   "outputs": [],
   "source": [
    "!pace-cli -h"
   ]
  },
  {
   "cell_type": "markdown",
   "id": "403f403462ed17a7",
   "metadata": {},
   "source": [
    "**Note:** Help can also be displayed for subcommands"
   ]
  },
  {
   "cell_type": "code",
   "execution_count": null,
   "id": "ca9320ec3b71ea8e",
   "metadata": {
    "ExecuteTime": {
     "end_time": "2024-08-30T16:55:38.295217Z",
     "start_time": "2024-08-30T16:55:37.675839Z"
    }
   },
   "outputs": [],
   "source": [
    "!pace-cli package -h"
   ]
  },
  {
   "cell_type": "code",
   "execution_count": null,
   "id": "1ea3002ed830dc6",
   "metadata": {
    "ExecuteTime": {
     "end_time": "2024-08-30T16:55:48.105705Z",
     "start_time": "2024-08-30T16:55:47.489627Z"
    }
   },
   "outputs": [],
   "source": [
    "!pace-cli package process -h"
   ]
  },
  {
   "cell_type": "markdown",
   "id": "a8bf3785e9995cf6",
   "metadata": {},
   "source": [
    "## Displaying Version"
   ]
  },
  {
   "cell_type": "code",
   "execution_count": null,
   "id": "259a1a2d379f7ba0",
   "metadata": {
    "ExecuteTime": {
     "end_time": "2024-08-30T16:56:11.721234Z",
     "start_time": "2024-08-30T16:56:11.096027Z"
    }
   },
   "outputs": [],
   "source": [
    "!pace-cli -V"
   ]
  },
  {
   "cell_type": "markdown",
   "id": "d5d22ad96e814e09",
   "metadata": {},
   "source": [
    "**Note:** Version can be displayed for subcommands"
   ]
  },
  {
   "cell_type": "code",
   "execution_count": null,
   "id": "a8860b5e718f6b7c",
   "metadata": {
    "ExecuteTime": {
     "end_time": "2024-08-30T16:56:56.890863Z",
     "start_time": "2024-08-30T16:56:56.278672Z"
    }
   },
   "outputs": [],
   "source": [
    "!pace-cli package -V"
   ]
  },
  {
   "cell_type": "markdown",
   "id": "57f76731907cfcdf",
   "metadata": {},
   "source": [
    "## Interacting with Metadata\n",
    "### Table of Contents:\n",
    "- [Create Object](#Create-Object)\n",
    "  - [Create from File](#Create-from-File)\n",
    "  - [Create from Standard Input](#Create-from-Standard-Input)\n",
    "- [Read Objects](#Read-Objects)\n",
    "  - [List Objects](#List-Objects)\n",
    "  - [Get Object by Uniquely Identifying Field](#Get-Object-by-Uniquely-Identifying-Field)\n",
    "  - [Get Object by UUID](#Get-Object-by-UUID)\n",
    "- [Update Object](#Update-Object)\n",
    "  - [Update from File](#Update-from-File)\n",
    "  - [Update from Standard Input](#Update-from-Standard-Input)\n",
    "- [Delete Object](#Delete-Object)\n",
    "  - [Delete by UUID](#Delete-by-UUID)\n",
    "- [Translating Objects](#Translating-Objects)"
   ]
  },
  {
   "cell_type": "markdown",
   "id": "da78f78dc8fba870",
   "metadata": {},
   "source": [
    "### Create Object"
   ]
  },
  {
   "cell_type": "code",
   "execution_count": null,
   "id": "e12b8a9f9e629dd7",
   "metadata": {
    "ExecuteTime": {
     "end_time": "2024-08-30T17:06:07.577648Z",
     "start_time": "2024-08-30T17:06:07.573115Z"
    }
   },
   "outputs": [],
   "source": [
    "example_person = {\n",
    "  \"name\": \"example-person\",\n",
    "  \"position\": \"scientist\",\n",
    "  \"organization\": \"CIRES\",\n",
    "  \"street\": \"216 UCB\",\n",
    "  \"city\": \"Boulder\",\n",
    "  \"state\": \"Colorado\",\n",
    "  \"zip\": \"80309\",\n",
    "  \"phone\": \"123-456-7890\",\n",
    "}\n",
    "\n",
    "write_json_file(example_person, 'person1.json')"
   ]
  },
  {
   "cell_type": "markdown",
   "id": "b2c923b8e76bb575",
   "metadata": {},
   "source": [
    "#### Create from File"
   ]
  },
  {
   "cell_type": "code",
   "execution_count": null,
   "id": "f66227c5b046385b",
   "metadata": {
    "ExecuteTime": {
     "end_time": "2024-08-30T17:06:09.569792Z",
     "start_time": "2024-08-30T17:06:08.749971Z"
    }
   },
   "outputs": [],
   "source": [
    "!pace-cli person create person1.json "
   ]
  },
  {
   "cell_type": "markdown",
   "id": "934a8a7d00393fe3",
   "metadata": {},
   "source": [
    "#### Create from Standard Input"
   ]
  },
  {
   "cell_type": "code",
   "execution_count": null,
   "id": "a82a4b19e741202a",
   "metadata": {
    "ExecuteTime": {
     "end_time": "2024-08-30T17:06:11.234645Z",
     "start_time": "2024-08-30T17:06:11.224992Z"
    }
   },
   "outputs": [],
   "source": [
    "example_person = {\n",
    "  \"name\": \"another-person\",\n",
    "  \"position\": \"scientist\",\n",
    "  \"organization\": \"CIRES\",\n",
    "  \"street\": \"216 UCB\",\n",
    "  \"city\": \"Boulder\",\n",
    "  \"state\": \"Colorado\",\n",
    "  \"zip\": \"80309\",\n",
    "  \"phone\": \"123-456-7890\",\n",
    "}\n",
    "\n",
    "write_json_file(example_person, 'person2.json')"
   ]
  },
  {
   "cell_type": "code",
   "execution_count": null,
   "id": "dd0eaff32f11c4f6",
   "metadata": {
    "ExecuteTime": {
     "end_time": "2024-08-30T17:06:13.130421Z",
     "start_time": "2024-08-30T17:06:12.383279Z"
    }
   },
   "outputs": [],
   "source": [
    "!cat person2.json | pace-cli person create - "
   ]
  },
  {
   "cell_type": "markdown",
   "id": "3cb33028536fd659",
   "metadata": {},
   "source": [
    "### Read Objects"
   ]
  },
  {
   "cell_type": "markdown",
   "id": "7577b054af38f5ab",
   "metadata": {},
   "source": [
    "#### List Objects"
   ]
  },
  {
   "cell_type": "code",
   "execution_count": null,
   "id": "915a5aa8b824e0c5",
   "metadata": {
    "ExecuteTime": {
     "end_time": "2024-08-30T17:06:56.682253Z",
     "start_time": "2024-08-30T17:06:55.966761Z"
    }
   },
   "outputs": [],
   "source": [
    "!pace-cli person list"
   ]
  },
  {
   "cell_type": "markdown",
   "id": "7656da713c0b1326",
   "metadata": {},
   "source": [
    "**Note:** objects can be filtered to constrain list results"
   ]
  },
  {
   "cell_type": "code",
   "execution_count": null,
   "id": "ca39a4aa0a434bf0",
   "metadata": {
    "ExecuteTime": {
     "end_time": "2024-08-30T17:07:54.827216Z",
     "start_time": "2024-08-30T17:07:53.961243Z"
    }
   },
   "outputs": [],
   "source": [
    "!pace-cli person list --names another,example"
   ]
  },
  {
   "cell_type": "markdown",
   "id": "d0c50e253122984a",
   "metadata": {},
   "source": [
    "#### Get Object by Uniquely Identifying Field"
   ]
  },
  {
   "cell_type": "code",
   "execution_count": null,
   "id": "fa1c7f44bc8c71cd",
   "metadata": {
    "ExecuteTime": {
     "end_time": "2024-08-30T17:09:53.761731Z",
     "start_time": "2024-08-30T17:09:52.904789Z"
    }
   },
   "outputs": [],
   "source": [
    "!pace-cli person get-by-name another-person"
   ]
  },
  {
   "cell_type": "markdown",
   "id": "2fa196da70128416",
   "metadata": {},
   "source": [
    "#### Get Object by UUID"
   ]
  },
  {
   "cell_type": "code",
   "execution_count": null,
   "id": "ad340ddb6a41dafa",
   "metadata": {
    "ExecuteTime": {
     "end_time": "2024-08-30T17:14:47.492973Z",
     "start_time": "2024-08-30T17:14:46.084668Z"
    }
   },
   "outputs": [],
   "source": [
    "# retrieving uuid from previous result\n",
    "!pace-cli person get-by-name another-person > result.json\n",
    "\n",
    "# extracting uuid from file\n",
    "example_person = read_json_file('result.json')\n",
    "uuid = example_person.get('uuid')\n",
    "\n",
    "# query by uuid\n",
    "!pace-cli person get-by-uuid {uuid}"
   ]
  },
  {
   "cell_type": "markdown",
   "id": "3d5d5cca8787880f",
   "metadata": {},
   "source": [
    "### Update Object"
   ]
  },
  {
   "cell_type": "markdown",
   "id": "5b411dfa8d310a5",
   "metadata": {},
   "source": [
    "#### Update from File"
   ]
  },
  {
   "cell_type": "code",
   "execution_count": null,
   "id": "a8f62e6bd8ea4409",
   "metadata": {
    "ExecuteTime": {
     "end_time": "2024-08-30T17:16:02.317459Z",
     "start_time": "2024-08-30T17:16:01.542869Z"
    }
   },
   "outputs": [],
   "source": [
    "example_person['name'] = \"edited-person-name\"\n",
    "write_json_file(example_person, 'person1.json')\n",
    "\n",
    "!pace-cli person update person1.json"
   ]
  },
  {
   "cell_type": "markdown",
   "id": "43dbef8e09c622d2",
   "metadata": {},
   "source": [
    "#### Update from Standard Input"
   ]
  },
  {
   "cell_type": "code",
   "execution_count": null,
   "id": "1ded82873dbe4902",
   "metadata": {
    "ExecuteTime": {
     "end_time": "2024-08-30T17:17:00.310424Z",
     "start_time": "2024-08-30T17:16:59.552254Z"
    }
   },
   "outputs": [],
   "source": [
    "example_person['name'] = 'another-edited-person-name'\n",
    "write_json_file(example_person, 'person1.json')\n",
    "\n",
    "!cat person1.json | pace-cli person update -"
   ]
  },
  {
   "cell_type": "markdown",
   "id": "70d79db1643071c7",
   "metadata": {},
   "source": [
    "### Delete Object"
   ]
  },
  {
   "cell_type": "markdown",
   "id": "9b4172808a28c73c",
   "metadata": {},
   "source": [
    "#### Delete by UUID"
   ]
  },
  {
   "cell_type": "code",
   "execution_count": null,
   "id": "4fccfd152f8d8958",
   "metadata": {
    "ExecuteTime": {
     "end_time": "2024-08-30T17:18:09.848047Z",
     "start_time": "2024-08-30T17:18:09.140336Z"
    }
   },
   "outputs": [],
   "source": [
    "!pace-cli person delete {uuid}"
   ]
  },
  {
   "cell_type": "markdown",
   "id": "dcf11e8e1c0ed57",
   "metadata": {},
   "source": [
    "### Translating Objects"
   ]
  },
  {
   "cell_type": "markdown",
   "id": "2b04ea9cd4ca28a3",
   "metadata": {},
   "source": [
    "Create translator:"
   ]
  },
  {
   "cell_type": "code",
   "execution_count": null,
   "id": "bdcee25a57c27cce",
   "metadata": {
    "ExecuteTime": {
     "end_time": "2024-08-30T17:30:32.910132Z",
     "start_time": "2024-08-30T17:30:32.905440Z"
    }
   },
   "outputs": [],
   "source": [
    "example_translator = {\n",
    "  \"type\": \"person\",\n",
    "  \"name\": \"people-translator\",\n",
    "  \"person_uuid\": \"UUID\",\n",
    "  \"person_name\": \"NAME\",\n",
    "  \"position\": \"POSITION\",\n",
    "  \"organization\": \"ORGANIZATION\",\n",
    "  \"street\": \"STREET\",\n",
    "  \"city\": \"CITY\",\n",
    "  \"state\": \"STATE\",\n",
    "  \"zip\": \"ZIP\",\n",
    "  \"country\": \"COUNTRY\",\n",
    "  \"phone\": \"PHONE\",\n",
    "  \"email\": \"EMAIL\",\n",
    "  \"orcid\": \"ORCID\"\n",
    "}\n",
    "\n",
    "write_json_file(example_translator, 'person-translator.json')"
   ]
  },
  {
   "cell_type": "code",
   "execution_count": null,
   "id": "cc3d247043ff2b1f",
   "metadata": {
    "ExecuteTime": {
     "end_time": "2024-08-30T17:25:42.280765Z",
     "start_time": "2024-08-30T17:25:41.476316Z"
    }
   },
   "outputs": [],
   "source": [
    "!pace-cli translator create person-translator.json"
   ]
  },
  {
   "cell_type": "markdown",
   "id": "308157b5d0c962e7",
   "metadata": {},
   "source": [
    "Write CSV file:"
   ]
  },
  {
   "cell_type": "code",
   "execution_count": null,
   "id": "f4de21ee2fa4b119",
   "metadata": {
    "ExecuteTime": {
     "end_time": "2024-08-30T17:42:25.545691Z",
     "start_time": "2024-08-30T17:42:25.404299Z"
    }
   },
   "outputs": [],
   "source": [
    "person1 = {\n",
    "  \"UUID\": \"\",\n",
    "  \"NAME\": \"person-1\",\n",
    "  \"POSITION\": \"scientist\",\n",
    "  \"ORGANIZATION\": \"CIRES\",\n",
    "  \"STREET\": \"216 UCB\",\n",
    "  \"CITY\": \"Boulder\",\n",
    "  \"STATE\": \"Colorado\",\n",
    "  \"ZIP\": \"80309\",\n",
    "  \"COUNTRY\": \"USA\",\n",
    "  \"PHONE\": \"123-456-7890\",\n",
    "  \"EMAIL\": \"\",\n",
    "  \"ORCID\": \"\"\n",
    "}\n",
    "\n",
    "person2 = {\n",
    "  \"UUID\": \"\",\n",
    "  \"NAME\": \"person-2\",\n",
    "  \"POSITION\": \"scientist\",\n",
    "  \"ORGANIZATION\": \"CIRES\",\n",
    "  \"STREET\": \"216 UCB\",\n",
    "  \"CITY\": \"Boulder\",\n",
    "  \"STATE\": \"Colorado\",\n",
    "  \"ZIP\": \"80309\",\n",
    "  \"COUNTRY\": \"USA\",\n",
    "  \"PHONE\": \"123-456-7890\",\n",
    "  \"EMAIL\": \"\",\n",
    "  \"ORCID\": \"\"\n",
    "}\n",
    "\n",
    "write_csv([ person1, person2 ], 'people.csv')\n",
    "\n",
    "!cat people.csv"
   ]
  },
  {
   "cell_type": "markdown",
   "id": "b1ef3b8970d96760",
   "metadata": {},
   "source": [
    "Translate objects from CSV file: "
   ]
  },
  {
   "cell_type": "code",
   "execution_count": null,
   "id": "14be6539d600f7ac",
   "metadata": {
    "ExecuteTime": {
     "end_time": "2024-08-30T17:43:21.092591Z",
     "start_time": "2024-08-30T17:43:20.307266Z"
    }
   },
   "outputs": [],
   "source": [
    "!pace-cli person translate -tf csv -tn people-translator people.csv"
   ]
  },
  {
   "cell_type": "markdown",
   "id": "471a1a6a4e729b7d",
   "metadata": {},
   "source": [
    "**Note:** Translating an object does not save it to PACE. To save, use your output as a parameter to the ``create`` command "
   ]
  },
  {
   "cell_type": "code",
   "execution_count": null,
   "id": "892b469c530dcf49",
   "metadata": {
    "ExecuteTime": {
     "end_time": "2024-08-30T17:45:48.526648Z",
     "start_time": "2024-08-30T17:45:47.440270Z"
    }
   },
   "outputs": [],
   "source": [
    "!pace-cli person translate -tf csv -tn people-translator people.csv | pace-cli person create -"
   ]
  },
  {
   "cell_type": "markdown",
   "id": "336bb43467bc2df2",
   "metadata": {},
   "source": [
    "## Interacting with Packages"
   ]
  },
  {
   "cell_type": "markdown",
   "id": "fbedfd127831917c",
   "metadata": {},
   "source": [
    "### Create Package"
   ]
  },
  {
   "cell_type": "markdown",
   "id": "743155a33f10e5f5",
   "metadata": {},
   "source": [
    "#### Create from File"
   ]
  },
  {
   "cell_type": "markdown",
   "id": "5390940c0647545e",
   "metadata": {},
   "source": [
    "Sea areas not provided in default metadata. Create example sea area: "
   ]
  },
  {
   "cell_type": "code",
   "execution_count": null,
   "id": "f781b22e61983bb9",
   "metadata": {
    "ExecuteTime": {
     "end_time": "2024-08-30T18:53:26.979685Z",
     "start_time": "2024-08-30T18:53:26.051850Z"
    }
   },
   "outputs": [],
   "source": [
    "example_sea_area = { 'name': 'Pacific' }\n",
    "\n",
    "write_json_file(example_sea_area, 'sea.json')\n",
    "\n",
    "!pace-cli sea create sea.json"
   ]
  },
  {
   "cell_type": "markdown",
   "id": "b323a2c4ee8b48fd",
   "metadata": {},
   "source": [
    "Create package:"
   ]
  },
  {
   "cell_type": "code",
   "execution_count": null,
   "id": "dddea7c7137a0f9d",
   "metadata": {
    "ExecuteTime": {
     "end_time": "2024-08-30T18:56:44.980694Z",
     "start_time": "2024-08-30T18:56:44.107225Z"
    }
   },
   "outputs": [],
   "source": [
    "example_package = {\n",
    "  'type': 'audio',\n",
    "  'data_collection_name': 'Example Package 1',\n",
    "  'source_path': '/Users/user/data-dir/audio-data',\n",
    "  'dataset_packager': 'Chuck Anderson',\n",
    "  'sponsors': [ 'NOAA AFSC' ],\n",
    "  'funders': [ 'NOAA AFSC' ],\n",
    "  'public_release_date': '2024-08-30',\n",
    "  'platform': 'Mooring',\n",
    "  'instrument': 'SoundTrap 500',\n",
    "  'quality_analyst': 'Chuck Anderson',\n",
    "  'location_detail': {\n",
    "    'type': 'stationary marine',\n",
    "    'sea_area': 'Pacific',\n",
    "    'recovery_location': {\n",
    "      'latitude': 1.5,\n",
    "      'longitude': 2.1,\n",
    "      'instrument_depth': 1000.1\n",
    "    },\n",
    "    'deployment_location': {\n",
    "      'latitude': 3.7,\n",
    "      'longitude': 4.3,\n",
    "      'instrument_depth': 9999.2\n",
    "    }\n",
    "  },\n",
    "  'channels': [\n",
    "    {\n",
    "      'start_time': '2024-08-30T10:00:00Z',\n",
    "      'end_time': '2024-08-30T12:00:00Z',\n",
    "      'sample_rates': [\n",
    "        {}\n",
    "      ],\n",
    "      'duty_cycles': [],\n",
    "      'gains': []\n",
    "    }\n",
    "  ]\n",
    "}\n",
    "\n",
    "write_json_file(example_package, 'package1.json')\n",
    "\n",
    "!pace-cli package create package1.json"
   ]
  },
  {
   "cell_type": "markdown",
   "id": "358b814e899bb979",
   "metadata": {},
   "source": [
    "#### Create from Standard Input"
   ]
  },
  {
   "cell_type": "code",
   "execution_count": null,
   "id": "cc17fc1c48931377",
   "metadata": {
    "ExecuteTime": {
     "end_time": "2024-08-30T18:56:57.599427Z",
     "start_time": "2024-08-30T18:56:56.728943Z"
    }
   },
   "outputs": [],
   "source": [
    "example_package = {\n",
    "  'type': 'audio',\n",
    "  'data_collection_name': 'Example Package 2',\n",
    "  'source_path': '/Users/user/data-dir/audio-data',\n",
    "  'dataset_packager': 'Chuck Anderson',\n",
    "  'sponsors': [ 'NOAA AFSC' ],\n",
    "  'funders': [ 'NOAA AFSC' ],\n",
    "  'public_release_date': '2024-08-30',\n",
    "  'platform': 'Mooring',\n",
    "  'instrument': 'SoundTrap 500',\n",
    "  'quality_analyst': 'Chuck Anderson',\n",
    "  'location_detail': {\n",
    "    'type': 'stationary marine',\n",
    "    'sea_area': 'Pacific',\n",
    "    'recovery_location': {\n",
    "      'latitude': 1.5,\n",
    "      'longitude': 2.1,\n",
    "      'instrument_depth': 1000.1\n",
    "    },\n",
    "    'deployment_location': {\n",
    "      'latitude': 3.7,\n",
    "      'longitude': 4.3,\n",
    "      'instrument_depth': 9999.2\n",
    "    }\n",
    "  },\n",
    "  'channels': [\n",
    "    {\n",
    "      'start_time': '2024-08-30T10:00:00Z',\n",
    "      'end_time': '2024-08-30T12:00:00Z',\n",
    "      'sample_rates': [],\n",
    "      'duty_cycles': [],\n",
    "      'gains': []\n",
    "    }\n",
    "  ]\n",
    "}\n",
    "\n",
    "write_json_file(example_package, 'package2.json')\n",
    "\n",
    "!cat package2.json | pace-cli package create -"
   ]
  },
  {
   "cell_type": "markdown",
   "id": "403d4122142a3690",
   "metadata": {},
   "source": [
    "### Read Packages"
   ]
  },
  {
   "cell_type": "markdown",
   "id": "e4b3e4fa543691f2",
   "metadata": {},
   "source": [
    "#### List Packages"
   ]
  },
  {
   "cell_type": "code",
   "execution_count": null,
   "id": "be5aa31c4aa27bc9",
   "metadata": {
    "ExecuteTime": {
     "end_time": "2024-08-30T18:59:32.881552Z",
     "start_time": "2024-08-30T18:59:32.005293Z"
    }
   },
   "outputs": [],
   "source": [
    "!pace-cli package list"
   ]
  },
  {
   "cell_type": "markdown",
   "id": "ade7cc0b0230ce2c",
   "metadata": {},
   "source": [
    "**Note:** packages can be filtered to constrain list results"
   ]
  },
  {
   "cell_type": "code",
   "execution_count": null,
   "id": "8cf9be6052a8354e",
   "metadata": {
    "ExecuteTime": {
     "end_time": "2024-08-30T19:00:23.729821Z",
     "start_time": "2024-08-30T19:00:22.789744Z"
    }
   },
   "outputs": [],
   "source": [
    "!pace-cli package list --package-ids \"Example Package 1\""
   ]
  },
  {
   "cell_type": "markdown",
   "id": "5d6e536c3713eee5",
   "metadata": {},
   "source": [
    "#### Get Package by Package ID"
   ]
  },
  {
   "cell_type": "code",
   "execution_count": null,
   "id": "cdb360305ad999a8",
   "metadata": {
    "ExecuteTime": {
     "end_time": "2024-08-30T19:01:16.601370Z",
     "start_time": "2024-08-30T19:01:15.694945Z"
    }
   },
   "outputs": [],
   "source": [
    "!pace-cli package get-by-package-id \"Example Package 1\""
   ]
  },
  {
   "cell_type": "markdown",
   "id": "ff957153c7d5127f",
   "metadata": {},
   "source": [
    "#### Get Package by UUID"
   ]
  },
  {
   "cell_type": "code",
   "execution_count": null,
   "id": "4643545adf770305",
   "metadata": {
    "ExecuteTime": {
     "end_time": "2024-08-30T19:04:39.533873Z",
     "start_time": "2024-08-30T19:04:38.019466Z"
    }
   },
   "outputs": [],
   "source": [
    "# retrieving uuid from previous result\n",
    "!pace-cli package get-by-package-id \"Example Package 1\" > result.json\n",
    "\n",
    "# extracting uuid from file\n",
    "example_package = read_json_file('result.json')\n",
    "package_uuid = example_package.get('uuid')\n",
    "\n",
    "# query by uuid\n",
    "!pace-cli package get-by-uuid {package_uuid}"
   ]
  },
  {
   "cell_type": "markdown",
   "id": "f089e015f239f813",
   "metadata": {},
   "source": [
    "### Update Package"
   ]
  },
  {
   "cell_type": "markdown",
   "id": "a457744b6416c03f",
   "metadata": {},
   "source": [
    "#### Update from File"
   ]
  },
  {
   "cell_type": "code",
   "execution_count": null,
   "id": "36fc7dda6d1154d8",
   "metadata": {
    "ExecuteTime": {
     "end_time": "2024-08-30T19:13:17.419056Z",
     "start_time": "2024-08-30T19:13:16.540192Z"
    }
   },
   "outputs": [],
   "source": [
    "example_package['data_collection_name'] = 'Edited Package 1'\n",
    "write_json_file(example_package, 'package.json')\n",
    "\n",
    "!pace-cli package update package.json"
   ]
  },
  {
   "cell_type": "markdown",
   "id": "41c2c7312ed9d8f7",
   "metadata": {},
   "source": [
    "#### Update from Standard Input"
   ]
  },
  {
   "cell_type": "code",
   "execution_count": null,
   "id": "e58a1b159a9cfa76",
   "metadata": {
    "ExecuteTime": {
     "end_time": "2024-08-30T19:14:30.308135Z",
     "start_time": "2024-08-30T19:14:29.445268Z"
    }
   },
   "outputs": [],
   "source": [
    "example_package['data_collection_name'] = 'Edited Package 1'\n",
    "write_json_file(example_package, 'package.json')\n",
    "\n",
    "!cat package.json | pace-cli package update -"
   ]
  },
  {
   "cell_type": "markdown",
   "id": "c9dfc4fd6da5d6e8",
   "metadata": {},
   "source": [
    "### Delete Package"
   ]
  },
  {
   "cell_type": "markdown",
   "id": "9335dcf0bd3c97ed",
   "metadata": {},
   "source": [
    "#### Delete by UUID"
   ]
  },
  {
   "cell_type": "code",
   "execution_count": null,
   "id": "16d57990b76356a6",
   "metadata": {
    "ExecuteTime": {
     "end_time": "2024-08-30T19:16:44.174660Z",
     "start_time": "2024-08-30T19:16:43.427640Z"
    }
   },
   "outputs": [],
   "source": [
    "!pace-cli package delete {package_uuid} "
   ]
  },
  {
   "cell_type": "markdown",
   "id": "44b5ce500dd1a9bd",
   "metadata": {},
   "source": [
    "### Translating Packages  "
   ]
  },
  {
   "cell_type": "markdown",
   "id": "15d104b4b447f859",
   "metadata": {},
   "source": [
    "Create translator:"
   ]
  },
  {
   "cell_type": "code",
   "execution_count": null,
   "id": "284c2de0aae3e298",
   "metadata": {
    "ExecuteTime": {
     "end_time": "2024-08-30T19:33:43.232789Z",
     "start_time": "2024-08-30T19:33:42.420006Z"
    }
   },
   "outputs": [],
   "source": [
    "audio_package_translator = {\n",
    "  'type': 'audio package',\n",
    "  'name': 'audio package translator',\n",
    "  'data_collection_name': 'DATA_COLLECTION_NAME',\n",
    "  'source_path': 'SOURCE_PATH',\n",
    "  'dataset_packager': 'DATASET_PACKAGER',\n",
    "  'sponsors': 'SPONSORS',\n",
    "  'funders': 'FUNDERS',\n",
    "  'public_release_date': {\n",
    "    'date': 'PUBLIC_RELEASE_DATE',\n",
    "    'time_zone': 'TIME_ZONE'\n",
    "  },\n",
    "  'platform': 'PLATFORM',\n",
    "  'instrument': 'INSTRUMENT',\n",
    "  'quality_control_detail_translator': {\n",
    "    'quality_analyst': 'QUALITY_ANALYST'\n",
    "  },\n",
    "  'location_detail_translator': {\n",
    "    'type': 'stationary marine',\n",
    "    'sea_area': 'SEA_AREA',\n",
    "    'deployment_location_translator': {\n",
    "      'latitude': 'DEPLOYMENT_LATITUDE',\n",
    "      'longitude': 'DEPLOYMENT_LONGITUDE',\n",
    "      'instrument_depth': 'DEPLOYMENT_INSTRUMENT_DEPTH'\n",
    "    },\n",
    "    'recovery_location_translator': {\n",
    "      'latitude': 'RECOVERY_LATITUDE',\n",
    "      'longitude': 'RECOVERY_LONGITUDE',\n",
    "      'instrument_depth': 'RECOVERY_INSTRUMENT_DEPTH'\n",
    "    },\n",
    "  },\n",
    "  'channel_translators': [\n",
    "    {\n",
    "      'start_time': {\n",
    "        'type': 'default',\n",
    "        'time_zone': 'TIME_ZONE',\n",
    "        'time': 'CHANNEL_START_TIME'\n",
    "      },\n",
    "      'end_time': {\n",
    "        'type': 'default',\n",
    "        'time_zone': 'TIME_ZONE',\n",
    "        'time': 'CHANNEL_END_TIME'\n",
    "      }\n",
    "    }\n",
    "  ]\n",
    "}\n",
    "\n",
    "write_json_file(audio_package_translator, 'package-translator.json')\n",
    "\n",
    "!pace-cli translator create package-translator.json"
   ]
  },
  {
   "cell_type": "markdown",
   "id": "8f83c1802a39551b",
   "metadata": {},
   "source": [
    "Write CSV file:"
   ]
  },
  {
   "cell_type": "code",
   "execution_count": null,
   "id": "bd372b99eea3a6bb",
   "metadata": {
    "ExecuteTime": {
     "end_time": "2024-08-30T19:35:35.466265Z",
     "start_time": "2024-08-30T19:35:35.461644Z"
    }
   },
   "outputs": [],
   "source": [
    "audio_package_translator.keys()"
   ]
  },
  {
   "cell_type": "code",
   "execution_count": null,
   "id": "73f01514efb846ba",
   "metadata": {
    "ExecuteTime": {
     "end_time": "2024-08-30T19:45:41.152256Z",
     "start_time": "2024-08-30T19:45:41.022274Z"
    }
   },
   "outputs": [],
   "source": [
    "package1 = {\n",
    "  'DATA_COLLECTION_NAME': 'Translated Package 1',\n",
    "  'SOURCE_PATH': '/Users/user/data-dir/audio-data',\n",
    "  'DATASET_PACKAGER': 'Chuck Anderson',\n",
    "  'SPONSORS': 'NOAA AFSC',\n",
    "  'FUNDERS': 'NOAA AFSC',\n",
    "  'TIME_ZONE': 'UTC',\n",
    "  'PUBLIC_RELEASE_DATE': '2024-08-30',\n",
    "  'PLATFORM': 'Mooring',\n",
    "  'INSTRUMENT': 'SoundTrap 500',\n",
    "  'QUALITY_ANALYST': 'Chuck Anderson',\n",
    "  'SEA_AREA': 'Pacific',\n",
    "  'DEPLOYMENT_LATITUDE': 1.2,\n",
    "  'DEPLOYMENT_LONGITUDE': 99.1,\n",
    "  'DEPLOYMENT_INSTRUMENT_DEPTH': 1000.1,\n",
    "  'RECOVERY_LATITUDE': 2.2,\n",
    "  'RECOVERY_LONGITUDE': 89.1,\n",
    "  'RECOVERY_INSTRUMENT_DEPTH': 1001.2,\n",
    "  'CHANNEL_START_TIME': '2024-08-30T12:00:00',\n",
    "  'CHANNEL_END_TIME': '2024-08-30T14:00:00'\n",
    "}\n",
    "\n",
    "package2 = {\n",
    "  'DATA_COLLECTION_NAME': 'Translated Package 2',\n",
    "  'SOURCE_PATH': '/Users/user/data-dir/audio-data',\n",
    "  'DATASET_PACKAGER': 'Chuck Anderson',\n",
    "  'SPONSORS': 'NOAA AFSC',\n",
    "  'FUNDERS': 'NOAA AFSC',\n",
    "  'TIME_ZONE': 'UTC',\n",
    "  'PUBLIC_RELEASE_DATE': '2024-08-31',\n",
    "  'PLATFORM': 'Mooring',\n",
    "  'INSTRUMENT': 'SoundTrap 500',\n",
    "  'QUALITY_ANALYST': 'Chuck Anderson',\n",
    "  'SEA_AREA': 'Pacific',\n",
    "  'DEPLOYMENT_LATITUDE': 1.9,\n",
    "  'DEPLOYMENT_LONGITUDE': 92.1,\n",
    "  'DEPLOYMENT_INSTRUMENT_DEPTH': 1200.3,\n",
    "  'RECOVERY_LATITUDE': 2.3,\n",
    "  'RECOVERY_LONGITUDE': 81.1,\n",
    "  'RECOVERY_INSTRUMENT_DEPTH': 1206.9,\n",
    "  'CHANNEL_START_TIME': '2024-08-31T12:00:00',\n",
    "  'CHANNEL_END_TIME': '2024-08-31T14:00:00'\n",
    "}\n",
    "\n",
    "write_csv([ package1, package2 ], 'packages.csv')\n",
    "\n",
    "!cat packages.csv"
   ]
  },
  {
   "cell_type": "markdown",
   "id": "7bae01cd6db3e9a0",
   "metadata": {},
   "source": [
    "Translate packages from CSV file:"
   ]
  },
  {
   "cell_type": "code",
   "execution_count": null,
   "id": "8e87ba3db6253d52",
   "metadata": {
    "ExecuteTime": {
     "end_time": "2024-08-30T19:45:44.135182Z",
     "start_time": "2024-08-30T19:45:43.384900Z"
    }
   },
   "outputs": [],
   "source": [
    "!pace-cli package translate -tf csv -tn \"audio package translator\" packages.csv"
   ]
  },
  {
   "cell_type": "markdown",
   "id": "1d21a62e06303e2b",
   "metadata": {},
   "source": [
    "**Note:** Translating a package does not save it to PACE. To save, use your output as a parameter to the ``create`` command"
   ]
  },
  {
   "cell_type": "code",
   "execution_count": null,
   "id": "67db41814c79f4bd",
   "metadata": {
    "ExecuteTime": {
     "end_time": "2024-08-30T19:46:49.631035Z",
     "start_time": "2024-08-30T19:46:48.564125Z"
    }
   },
   "outputs": [],
   "source": [
    "!pace-cli package translate -tf csv -tn \"audio package translator\" packages.csv | pace-cli package create -"
   ]
  },
  {
   "cell_type": "markdown",
   "id": "95881684c67b289",
   "metadata": {},
   "source": [
    "### Processing Packages"
   ]
  },
  {
   "cell_type": "markdown",
   "id": "4f0ee187e909f9a0",
   "metadata": {},
   "source": [
    "Create data to process (demo purposes only):"
   ]
  },
  {
   "cell_type": "code",
   "execution_count": null,
   "id": "302b98e9fe4d5c9c",
   "metadata": {
    "ExecuteTime": {
     "end_time": "2024-08-30T20:02:13.268850Z",
     "start_time": "2024-08-30T20:02:11.309967Z"
    }
   },
   "outputs": [],
   "source": [
    "# get package from previous result\n",
    "!pace-cli package get-by-package-id \"Translated Package 1\" > package.json\n",
    "example_package = read_json_file('package.json')\n",
    "\n",
    "# write mocked data to source path\n",
    "source_path = f'{os.getcwd()}/audio-data'\n",
    "os.mkdir(source_path)\n",
    "example_package['source_path'] = source_path\n",
    "for i in range(0, 1000):\n",
    "  write_json_file({ 'field-1': f'value-{i}' }, f'{source_path}/file-{i}.json')\n",
    "\n",
    "# save package changes\n",
    "write_json_file(example_package, 'package.json')\n",
    "!pace-cli package update package.json"
   ]
  },
  {
   "cell_type": "markdown",
   "id": "9d86c28780599389",
   "metadata": {},
   "source": [
    "#### Process from File"
   ]
  },
  {
   "cell_type": "code",
   "execution_count": null,
   "id": "f9877eaadb05b850",
   "metadata": {
    "ExecuteTime": {
     "end_time": "2024-08-30T20:09:38.762265Z",
     "start_time": "2024-08-30T20:09:37.306368Z"
    },
    "scrolled": true
   },
   "outputs": [],
   "source": [
    "!pace-cli package process package.json ."
   ]
  },
  {
   "cell_type": "markdown",
   "id": "e3bb565def56580f",
   "metadata": {},
   "source": [
    "#### Process from Standard Input"
   ]
  },
  {
   "cell_type": "code",
   "execution_count": null,
   "id": "4b5ef2b9ee3fcb66",
   "metadata": {
    "ExecuteTime": {
     "end_time": "2024-08-30T20:09:55.000450Z",
     "start_time": "2024-08-30T20:09:51.302158Z"
    },
    "scrolled": true
   },
   "outputs": [],
   "source": [
    "!rm -rf \"Translated Package 1\"\n",
    "!cat package.json | pace-cli package process - ."
   ]
  },
  {
   "cell_type": "markdown",
   "id": "c8d1a2086df78b3f",
   "metadata": {},
   "source": [
    "**Note:** Logs are written to standard error. A progress bar is written to standard output. These outputs can be separated."
   ]
  },
  {
   "cell_type": "code",
   "execution_count": null,
   "id": "1b128009f1a2014f",
   "metadata": {
    "ExecuteTime": {
     "end_time": "2024-08-30T20:10:00.993747Z",
     "start_time": "2024-08-30T20:09:57.678856Z"
    },
    "scrolled": true
   },
   "outputs": [],
   "source": [
    "# show standard error only\n",
    "!rm -rf \"Translated Package 1\"\n",
    "!pace-cli package process package.json . 1> /dev/null"
   ]
  },
  {
   "cell_type": "code",
   "execution_count": null,
   "id": "5a0c6aae5e4ef1df",
   "metadata": {
    "ExecuteTime": {
     "end_time": "2024-08-30T20:10:08.833441Z",
     "start_time": "2024-08-30T20:10:05.549221Z"
    }
   },
   "outputs": [],
   "source": [
    "# show standard output only\n",
    "!rm -rf \"Translated Package 1\"\n",
    "!pace-cli package process package.json . 2> /dev/null"
   ]
  }
 ],
 "metadata": {
  "kernelspec": {
   "display_name": "Python 3 (ipykernel)",
   "language": "python",
   "name": "python3"
  },
  "language_info": {
   "codemirror_mode": {
    "name": "ipython",
    "version": 3
   },
   "file_extension": ".py",
   "mimetype": "text/x-python",
   "name": "python",
   "nbconvert_exporter": "python",
   "pygments_lexer": "ipython3",
   "version": "3.12.2"
  }
 },
 "nbformat": 4,
 "nbformat_minor": 5
}
